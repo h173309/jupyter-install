{
 "cells": [
  {
   "cell_type": "code",
   "execution_count": 1,
   "metadata": {},
   "outputs": [
    {
     "name": "stderr",
     "output_type": "stream",
     "text": [
      "Using TensorFlow backend.\n"
     ]
    }
   ],
   "source": [
    "import warnings\n",
    "warnings.simplefilter(action='ignore', category=FutureWarning)\n",
    "\n",
    "# Tensorflowで使うGPUメモリの上限を指定\n",
    "import tensorflow as tf\n",
    "config = tf.ConfigProto()\n",
    "config.gpu_options.per_process_gpu_memory_fraction = 0.3\n",
    "config.gpu_options.visible_device_list = '0' #ndivia-smiを見て判断\n",
    "session = tf.Session(config=config)\n",
    "from keras import backend as K\n",
    "K.set_session(session)"
   ]
  },
  {
   "cell_type": "code",
   "execution_count": 2,
   "metadata": {},
   "outputs": [
    {
     "name": "stderr",
     "output_type": "stream",
     "text": [
      "/home/umada/anaconda3/envs/vqa-env/lib/python3.6/site-packages/smart_open/ssh.py:34: UserWarning: paramiko missing, opening SSH/SCP/SFTP paths will be disabled.  `pip install paramiko` to suppress\n",
      "  warnings.warn('paramiko missing, opening SSH/SCP/SFTP paths will be disabled.  `pip install paramiko` to suppress')\n"
     ]
    }
   ],
   "source": [
    "import numpy as np\n",
    "import pandas as pd\n",
    "import matplotlib.pyplot as plt\n",
    "%matplotlib inline\n",
    "import os\n",
    "from itertools import zip_longest\n",
    "\n",
    "import gensim\n",
    "from sklearn.preprocessing import LabelEncoder\n",
    "\n",
    "\n",
    "from IPython.display import display, Image, display_jpeg, SVG\n",
    "from IPython.core.interactiveshell import InteractiveShell\n",
    "InteractiveShell.ast_node_interactivity = 'all'\n",
    "\n",
    "# import vqa_module.util as myutil\n",
    "# import vqa_module.text_process as my_text_process"
   ]
  },
  {
   "cell_type": "code",
   "execution_count": 6,
   "metadata": {},
   "outputs": [],
   "source": [
    "from keras.layers import Activation, Concatenate, Dense, Dot, Dropout, Input, Reshape\n",
    "from keras.layers import Multiply, Flatten, RepeatVector, Permute, Lambda\n",
    "from keras.layers import Conv2D, CuDNNGRU\n",
    "from keras.layers.normalization import BatchNormalization\n",
    "\n",
    "from keras.models import Model\n",
    "from keras.applications.vgg19 import VGG19, preprocess_input, decode_predictions\n",
    "from keras.applications.densenet import DenseNet201\n",
    "from keras.callbacks import Callback, ModelCheckpoint\n",
    "from keras.optimizers import Adam\n",
    "\n",
    "from keras.utils import np_utils, generic_utils, plot_model\n",
    "from tensorflow.python.keras.utils.vis_utils import plot_model, model_to_dot\n",
    "from keras.preprocessing.image import load_img, img_to_array"
   ]
  },
  {
   "cell_type": "code",
   "execution_count": 3,
   "metadata": {},
   "outputs": [
    {
     "name": "stdout",
     "output_type": "stream",
     "text": [
      "Train on 60000 samples, validate on 10000 samples\n",
      "Epoch 1/20\n",
      "60000/60000 [==============================] - 1s 12us/step - loss: 0.6070 - acc: 0.8474 - val_loss: 0.3436 - val_acc: 0.9063\n",
      "Epoch 2/20\n",
      "60000/60000 [==============================] - 1s 9us/step - loss: 0.3312 - acc: 0.9077 - val_loss: 0.2984 - val_acc: 0.9153\n",
      "Epoch 3/20\n",
      "60000/60000 [==============================] - 1s 9us/step - loss: 0.3017 - acc: 0.9159 - val_loss: 0.2852 - val_acc: 0.9201\n",
      "Epoch 4/20\n",
      "60000/60000 [==============================] - 1s 9us/step - loss: 0.2881 - acc: 0.9191 - val_loss: 0.2787 - val_acc: 0.9226\n",
      "Epoch 5/20\n",
      "60000/60000 [==============================] - 1s 9us/step - loss: 0.2802 - acc: 0.9218 - val_loss: 0.2752 - val_acc: 0.9236\n",
      "Epoch 6/20\n",
      "60000/60000 [==============================] - 1s 9us/step - loss: 0.2746 - acc: 0.9234 - val_loss: 0.2714 - val_acc: 0.9247\n",
      "Epoch 7/20\n",
      "60000/60000 [==============================] - 1s 9us/step - loss: 0.2705 - acc: 0.9250 - val_loss: 0.2710 - val_acc: 0.9247\n",
      "Epoch 8/20\n",
      "60000/60000 [==============================] - 1s 9us/step - loss: 0.2672 - acc: 0.9261 - val_loss: 0.2671 - val_acc: 0.9270\n",
      "Epoch 9/20\n",
      "60000/60000 [==============================] - 1s 9us/step - loss: 0.2649 - acc: 0.9270 - val_loss: 0.2699 - val_acc: 0.9257\n",
      "Epoch 10/20\n",
      "60000/60000 [==============================] - 1s 9us/step - loss: 0.2627 - acc: 0.9278 - val_loss: 0.2688 - val_acc: 0.9264\n",
      "Epoch 11/20\n",
      "60000/60000 [==============================] - 1s 9us/step - loss: 0.2608 - acc: 0.9286 - val_loss: 0.2669 - val_acc: 0.9279\n",
      "Epoch 12/20\n",
      "60000/60000 [==============================] - 1s 9us/step - loss: 0.2593 - acc: 0.9291 - val_loss: 0.2684 - val_acc: 0.9270\n",
      "Epoch 13/20\n",
      "60000/60000 [==============================] - 1s 9us/step - loss: 0.2580 - acc: 0.9296 - val_loss: 0.2675 - val_acc: 0.9283\n",
      "Epoch 14/20\n",
      "60000/60000 [==============================] - 1s 9us/step - loss: 0.2570 - acc: 0.9301 - val_loss: 0.2697 - val_acc: 0.9263\n",
      "Epoch 15/20\n",
      "60000/60000 [==============================] - 1s 9us/step - loss: 0.2559 - acc: 0.9304 - val_loss: 0.2701 - val_acc: 0.9265\n",
      "Epoch 16/20\n",
      "60000/60000 [==============================] - 1s 9us/step - loss: 0.2549 - acc: 0.9312 - val_loss: 0.2699 - val_acc: 0.9274\n",
      "Epoch 17/20\n",
      "60000/60000 [==============================] - 1s 9us/step - loss: 0.2542 - acc: 0.9312 - val_loss: 0.2694 - val_acc: 0.9273\n",
      "Epoch 18/20\n",
      "60000/60000 [==============================] - 1s 9us/step - loss: 0.2532 - acc: 0.9312 - val_loss: 0.2682 - val_acc: 0.9271\n",
      "Epoch 19/20\n",
      "60000/60000 [==============================] - 1s 9us/step - loss: 0.2525 - acc: 0.9315 - val_loss: 0.2720 - val_acc: 0.9265\n",
      "Epoch 20/20\n",
      "60000/60000 [==============================] - 1s 9us/step - loss: 0.2519 - acc: 0.9320 - val_loss: 0.2680 - val_acc: 0.9275\n",
      "10000/10000 [==============================] - 0s 12us/step\n",
      "\n",
      "Test loss: 0.2679548303693533\n",
      "Test accuracy: 0.9275\n"
     ]
    }
   ],
   "source": [
    "import keras\n",
    "from keras.datasets import mnist\n",
    "from keras.models import Sequential\n",
    "from keras.layers import Dense, Dropout, InputLayer\n",
    "from keras.optimizers import RMSprop\n",
    "\n",
    "# MNISTデータを読込む\n",
    "(x_train, y_train), (x_test, y_test) = mnist.load_data()\n",
    "\n",
    "# MNISTデータを加工する\n",
    "x_train  = x_train.reshape(60000, 784)\n",
    "x_test   = x_test.reshape(10000, 784)\n",
    "x_train  = x_train.astype('float32')\n",
    "x_test   = x_test.astype('float32')\n",
    "x_train /= 255\n",
    "x_test  /= 255\n",
    "y_train  = keras.utils.to_categorical(y_train, 10)\n",
    "y_test   = keras.utils.to_categorical(y_test, 10)\n",
    "\n",
    "# モデルの構築\n",
    "model = Sequential()\n",
    "model.add(InputLayer(input_shape=(784,)))\n",
    "model.add(Dense(10, activation='softmax'))\n",
    "model.compile(loss='categorical_crossentropy', optimizer='rmsprop', metrics=['accuracy'])\n",
    "\n",
    "# 学習\n",
    "epochs = 20\n",
    "batch_size = 128\n",
    "history = model.fit(x_train, y_train, batch_size=batch_size, epochs=epochs, verbose=1, validation_data=(x_test, y_test))\n",
    "\n",
    "# 検証\n",
    "score = model.evaluate(x_test, y_test, verbose=1)\n",
    "print()\n",
    "print('Test loss:', score[0])\n",
    "print('Test accuracy:', score[1])"
   ]
  },
  {
   "cell_type": "code",
   "execution_count": 4,
   "metadata": {},
   "outputs": [
    {
     "name": "stdout",
     "output_type": "stream",
     "text": [
      "_________________________________________________________________\n",
      "Layer (type)                 Output Shape              Param #   \n",
      "=================================================================\n",
      "dense_1 (Dense)              (None, 10)                7850      \n",
      "=================================================================\n",
      "Total params: 7,850\n",
      "Trainable params: 7,850\n",
      "Non-trainable params: 0\n",
      "_________________________________________________________________\n"
     ]
    }
   ],
   "source": [
    "model.summary()"
   ]
  },
  {
   "cell_type": "code",
   "execution_count": 7,
   "metadata": {},
   "outputs": [
    {
     "data": {
      "image/svg+xml": [
       "<svg height=\"128pt\" viewBox=\"0.00 0.00 248.00 128.00\" width=\"248pt\" xmlns=\"http://www.w3.org/2000/svg\" xmlns:xlink=\"http://www.w3.org/1999/xlink\">\n",
       "<g class=\"graph\" id=\"graph0\" transform=\"scale(1 1) rotate(0) translate(4 124)\">\n",
       "<title>G</title>\n",
       "<polygon fill=\"white\" points=\"-4,4 -4,-124 244,-124 244,4 -4,4\" stroke=\"none\"/>\n",
       "<!-- 140644248167816 -->\n",
       "<g class=\"node\" id=\"node1\"><title>140644248167816</title>\n",
       "<polygon fill=\"none\" points=\"-1.42109e-14,-0.5 -1.42109e-14,-46.5 240,-46.5 240,-0.5 -1.42109e-14,-0.5\" stroke=\"black\"/>\n",
       "<text font-family=\"Times,serif\" font-size=\"14.00\" text-anchor=\"middle\" x=\"51\" y=\"-19.8\">dense_1: Dense</text>\n",
       "<polyline fill=\"none\" points=\"102,-0.5 102,-46.5 \" stroke=\"black\"/>\n",
       "<text font-family=\"Times,serif\" font-size=\"14.00\" text-anchor=\"middle\" x=\"129.5\" y=\"-31.3\">input:</text>\n",
       "<polyline fill=\"none\" points=\"102,-23.5 157,-23.5 \" stroke=\"black\"/>\n",
       "<text font-family=\"Times,serif\" font-size=\"14.00\" text-anchor=\"middle\" x=\"129.5\" y=\"-8.3\">output:</text>\n",
       "<polyline fill=\"none\" points=\"157,-0.5 157,-46.5 \" stroke=\"black\"/>\n",
       "<text font-family=\"Times,serif\" font-size=\"14.00\" text-anchor=\"middle\" x=\"198.5\" y=\"-31.3\">(None, 784)</text>\n",
       "<polyline fill=\"none\" points=\"157,-23.5 240,-23.5 \" stroke=\"black\"/>\n",
       "<text font-family=\"Times,serif\" font-size=\"14.00\" text-anchor=\"middle\" x=\"198.5\" y=\"-8.3\">(None, 10)</text>\n",
       "</g>\n",
       "<!-- 140642259766408 -->\n",
       "<g class=\"node\" id=\"node2\"><title>140642259766408</title>\n",
       "<polygon fill=\"none\" points=\"61,-83.5 61,-119.5 179,-119.5 179,-83.5 61,-83.5\" stroke=\"black\"/>\n",
       "<text font-family=\"Times,serif\" font-size=\"14.00\" text-anchor=\"middle\" x=\"120\" y=\"-97.8\">140642259766408</text>\n",
       "</g>\n",
       "<!-- 140642259766408&#45;&gt;140644248167816 -->\n",
       "<g class=\"edge\" id=\"edge1\"><title>140642259766408-&gt;140644248167816</title>\n",
       "<path d=\"M120,-83.2544C120,-75.3631 120,-65.7491 120,-56.6025\" fill=\"none\" stroke=\"black\"/>\n",
       "<polygon fill=\"black\" points=\"123.5,-56.5908 120,-46.5908 116.5,-56.5909 123.5,-56.5908\" stroke=\"black\"/>\n",
       "</g>\n",
       "</g>\n",
       "</svg>"
      ],
      "text/plain": [
       "<IPython.core.display.SVG object>"
      ]
     },
     "execution_count": 7,
     "metadata": {},
     "output_type": "execute_result"
    }
   ],
   "source": [
    "SVG(model_to_dot(model, show_shapes=True).create(prog='dot', format='svg'))"
   ]
  },
  {
   "cell_type": "code",
   "execution_count": null,
   "metadata": {},
   "outputs": [],
   "source": []
  }
 ],
 "metadata": {
  "kernelspec": {
   "display_name": "Environment (conda_vqa-env)",
   "language": "python",
   "name": "conda_vqa-env"
  },
  "language_info": {
   "codemirror_mode": {
    "name": "ipython",
    "version": 3
   },
   "file_extension": ".py",
   "mimetype": "text/x-python",
   "name": "python",
   "nbconvert_exporter": "python",
   "pygments_lexer": "ipython3",
   "version": "3.6.8"
  }
 },
 "nbformat": 4,
 "nbformat_minor": 2
}
